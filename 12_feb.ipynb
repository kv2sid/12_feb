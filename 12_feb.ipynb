{
 "cells": [
  {
   "cell_type": "markdown",
   "id": "11d00100-0efa-4e52-b956-50b7408f5a67",
   "metadata": {},
   "source": [
    "Q1. What is an Exception in python? Write the difference between Exceptions and syntex errors.\n",
    "\n",
    "Answer - Exceptions are raised when the program is syntactically correct, but the code results in an error. This error does not stop the execution of the program, however, it changes the normal flow of the program.\n",
    "\n",
    "Syntex error - This exception is raised when the interpreter encounters a syntax error in the code, such as a misspelled keyword, a missing colon, or an unbalanced parenthesis."
   ]
  },
  {
   "cell_type": "markdown",
   "id": "982f2b32-921e-4c76-b6c8-80229de5b383",
   "metadata": {},
   "source": [
    "Q2. What happens when an exception is not handled? Explain with an example.\n",
    "\n",
    "Answer - If an exception occurs during execution of the try clause, the exception may be handled by an except clause. If the exception is not handled by an except clause, the exception is re-raised after the finally clause has been executed.\n",
    "\n",
    "An exception could occur during execution of an except or else clause. Again, the exception is re-raised after the finally clause has been executed."
   ]
  },
  {
   "cell_type": "code",
   "execution_count": 15,
   "id": "fc856ecc-f467-4eea-96bf-75cbd69a039c",
   "metadata": {},
   "outputs": [
    {
     "name": "stdin",
     "output_type": "stream",
     "text": [
      "Distance travelled by the vehicle 10\n",
      "Time taken by the vehicle 5\n"
     ]
    },
    {
     "name": "stdout",
     "output_type": "stream",
     "text": [
      "The speed of the vehicle is : 2.0\n"
     ]
    }
   ],
   "source": [
    "# example of exception handling\n",
    "try:\n",
    "    Distance = int(input('Distance travelled by the vehicle'))\n",
    "    Time = int(input('Time taken by the vehicle'))\n",
    "    speed = Distance/Time\n",
    "except Exception as e:\n",
    "    print('The time cannot be zero',e)\n",
    "else:\n",
    "    print('The speed of the vehicle is :',speed)\n",
    "    \n",
    "    "
   ]
  },
  {
   "cell_type": "markdown",
   "id": "806ec9da-106d-43f3-8ed8-d8a41c903e12",
   "metadata": {},
   "source": [
    "Q3. Which Python statements are used to catch and handle exceptions? Explain with an example.\n",
    "\n",
    "Answer - The try...except block is used to handle exceptions in Python."
   ]
  },
  {
   "cell_type": "code",
   "execution_count": 16,
   "id": "4acd6355-2fbf-4cc9-93a7-ceb3812f7f28",
   "metadata": {},
   "outputs": [
    {
     "name": "stdin",
     "output_type": "stream",
     "text": [
      "Distance travelled by the vehicle 80\n",
      "Time taken by the vehicle 0\n"
     ]
    },
    {
     "name": "stdout",
     "output_type": "stream",
     "text": [
      "The time cannot be zero division by zero\n"
     ]
    }
   ],
   "source": [
    "try:\n",
    "    Distance = int(input('Distance travelled by the vehicle'))\n",
    "    Time = int(input('Time taken by the vehicle'))\n",
    "    speed = Distance/Time\n",
    "except Exception as e:\n",
    "    print('The time cannot be zero',e)\n",
    "else:\n",
    "    print('The speed of the vehicle is :',speed)"
   ]
  },
  {
   "cell_type": "markdown",
   "id": "4080be30-6358-42f2-b2d1-9578281dea1c",
   "metadata": {},
   "source": [
    "Q4. Explain with an example:\n",
    "a. try and else\n",
    "b. finally\n",
    "c. raise"
   ]
  },
  {
   "cell_type": "code",
   "execution_count": 46,
   "id": "4c95b487-455e-4682-8c6b-32610476685c",
   "metadata": {},
   "outputs": [
    {
     "name": "stdin",
     "output_type": "stream",
     "text": [
      "Please enter your number 9\n",
      "Please enter your number 3\n"
     ]
    },
    {
     "name": "stdout",
     "output_type": "stream",
     "text": [
      "3.0\n",
      "Your desired result\n"
     ]
    }
   ],
   "source": [
    "#example of try and else, finally and raise\n",
    "try:\n",
    "    numerator = int(input('Please enter your number'))\n",
    "    denominator = int(input('Please enter your number'))\n",
    "    result = numerator/denominator\n",
    "    print(result)\n",
    "except Exception as e:\n",
    "    print ('Please enter your valid number in denominator')\n",
    "finally:\n",
    "    print('Your desired result')"
   ]
  },
  {
   "cell_type": "markdown",
   "id": "4d95b1e9-ea9d-4143-b259-6bc8476c0174",
   "metadata": {},
   "source": [
    "Q5. What are Custom Exceptions in python? What do we need Custom Exceptions? Explain with an example\n",
    "\n",
    "Answer - a custom exception is a way to create your own specific error message that is related to your code's requirements. It is a class that extends the Exception class or its subclass. it raise the excption which is specific to the need of the application."
   ]
  },
  {
   "cell_type": "code",
   "execution_count": 57,
   "id": "3a57abc4-4b4d-4299-a613-23f82f59ccc6",
   "metadata": {},
   "outputs": [],
   "source": [
    "# example of custom exception\n",
    "class driving_age(Exception):\n",
    "    def __init__(self, age):\n",
    "        self.age = age\n",
    "    \n",
    "def driving(age):\n",
    "        if age < 18:\n",
    "            raise driving_age ('You are not eligible to drive')\n",
    "        else:\n",
    "            print('you are eligible to drive')"
   ]
  },
  {
   "cell_type": "code",
   "execution_count": 59,
   "id": "2fb7f53f-46b9-4c11-9136-444ddfa21649",
   "metadata": {},
   "outputs": [
    {
     "name": "stdin",
     "output_type": "stream",
     "text": [
      "Please enter your age 12\n"
     ]
    },
    {
     "name": "stdout",
     "output_type": "stream",
     "text": [
      "You are not eligible to drive\n"
     ]
    }
   ],
   "source": [
    "try:\n",
    "    age = int(input('Please enter your age'))\n",
    "    driving(age)\n",
    "except driving_age as e:\n",
    "    print(e)\n",
    "    "
   ]
  },
  {
   "cell_type": "markdown",
   "id": "604d9279-97a2-43d5-80f0-04e992bb8901",
   "metadata": {},
   "source": [
    "Q6. Create custom exception class. Use this class to handle an exception."
   ]
  },
  {
   "cell_type": "code",
   "execution_count": 21,
   "id": "0ef218a5-0303-4c55-8cec-bbde3159dec1",
   "metadata": {},
   "outputs": [],
   "source": [
    "#try and else\n",
    "class payment_fees(Exception):\n",
    "    def __init__(self, payment):\n",
    "        self.payment = payment"
   ]
  },
  {
   "cell_type": "code",
   "execution_count": 24,
   "id": "c4b7f5e9-1d55-4221-bb5a-5eecb91c092d",
   "metadata": {},
   "outputs": [],
   "source": [
    "def validate_payment(payment):\n",
    "    if payment < 0:\n",
    "        raise payment_fees('Payment should not be in zero')\n",
    "    elif payment < 3000:\n",
    "        raise payment_fees('payment should not less than 3000')\n",
    "    else:\n",
    "        print('Payment is accepted')"
   ]
  },
  {
   "cell_type": "code",
   "execution_count": 27,
   "id": "814a127f-4575-4dcd-87e5-2e410f4d67cc",
   "metadata": {},
   "outputs": [
    {
     "name": "stdin",
     "output_type": "stream",
     "text": [
      "Please enter your fee payment details 6000\n"
     ]
    },
    {
     "name": "stdout",
     "output_type": "stream",
     "text": [
      "Payment is accepted\n"
     ]
    }
   ],
   "source": [
    "try:\n",
    "    Payment = int(input('Please enter your fee payment details'))\n",
    "    validate_payment(Payment)\n",
    "except payment_fees as e:\n",
    "    print(e)\n",
    "    "
   ]
  },
  {
   "cell_type": "code",
   "execution_count": null,
   "id": "4b5d2be3-2235-4166-bafa-9c774b43846c",
   "metadata": {},
   "outputs": [],
   "source": []
  },
  {
   "cell_type": "code",
   "execution_count": null,
   "id": "d24bf1b9-80ad-4abd-94d8-ae6bd0b3681d",
   "metadata": {},
   "outputs": [],
   "source": []
  },
  {
   "cell_type": "code",
   "execution_count": null,
   "id": "27eded81-da32-49ec-9c01-842cdfe14789",
   "metadata": {},
   "outputs": [],
   "source": []
  }
 ],
 "metadata": {
  "kernelspec": {
   "display_name": "Python 3 (ipykernel)",
   "language": "python",
   "name": "python3"
  },
  "language_info": {
   "codemirror_mode": {
    "name": "ipython",
    "version": 3
   },
   "file_extension": ".py",
   "mimetype": "text/x-python",
   "name": "python",
   "nbconvert_exporter": "python",
   "pygments_lexer": "ipython3",
   "version": "3.10.8"
  }
 },
 "nbformat": 4,
 "nbformat_minor": 5
}
